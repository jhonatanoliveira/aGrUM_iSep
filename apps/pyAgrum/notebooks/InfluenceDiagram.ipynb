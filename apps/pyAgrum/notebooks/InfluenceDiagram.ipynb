{
 "cells": [
  {
   "cell_type": "code",
   "execution_count": 1,
   "metadata": {
    "collapsed": false
   },
   "outputs": [],
   "source": [
    "%matplotlib inline\n",
    "from pylab import *\n",
    "import matplotlib.pyplot as plt"
   ]
  },
  {
   "cell_type": "code",
   "execution_count": 2,
   "metadata": {
    "collapsed": false
   },
   "outputs": [],
   "source": [
    "import pyAgrum as gum\n",
    "import pyAgrum.lib.notebook as gnb\n"
   ]
  },
  {
   "cell_type": "code",
   "execution_count": 3,
   "metadata": {
    "collapsed": false
   },
   "outputs": [
    {
     "data": {
      "text/html": [
       "<div align='center'><svg height=\"432pt\" viewBox=\"0.00 0.00 398.74 432.00\" width=\"399pt\" xmlns=\"http://www.w3.org/2000/svg\" xmlns:xlink=\"http://www.w3.org/1999/xlink\">\n",
       "<g class=\"graph\" id=\"graph0\" transform=\"scale(0.907563 0.907563) rotate(0) translate(4 472)\">\n",
       "<title>../resources/diag.bifxml</title>\n",
       "<polygon fill=\"white\" points=\"-4,4 -4,-472 435.356,-472 435.356,4 -4,4\" stroke=\"none\"/>\n",
       "<!-- decisionVar1 -->\n",
       "<g class=\"node\" id=\"node1\"><title>decisionVar1</title>\n",
       "<polygon fill=\"lightgrey\" points=\"180.356,-468 91.356,-468 91.356,-432 180.356,-432 180.356,-468\" stroke=\"black\"/>\n",
       "<text font-family=\"Times,serif\" font-size=\"14.00\" text-anchor=\"middle\" x=\"135.856\" y=\"-446.3\">decisionVar1</text>\n",
       "</g>\n",
       "<!-- chanceVar1 -->\n",
       "<g class=\"node\" id=\"node7\"><title>chanceVar1</title>\n",
       "<ellipse cx=\"135.856\" cy=\"-378\" fill=\"lightgrey\" rx=\"52.7911\" ry=\"18\" stroke=\"black\"/>\n",
       "<text font-family=\"Times,serif\" font-size=\"14.00\" text-anchor=\"middle\" x=\"135.856\" y=\"-374.3\">chanceVar1</text>\n",
       "</g>\n",
       "<!-- decisionVar1&#45;&gt;chanceVar1 -->\n",
       "<g class=\"edge\" id=\"edge1\"><title>decisionVar1-&gt;chanceVar1</title>\n",
       "<path d=\"M135.856,-431.697C135.856,-423.983 135.856,-414.712 135.856,-406.112\" fill=\"none\" stroke=\"black\"/>\n",
       "<polygon fill=\"black\" points=\"139.356,-406.104 135.856,-396.104 132.356,-406.104 139.356,-406.104\" stroke=\"black\"/>\n",
       "</g>\n",
       "<!-- decisionVar2 -->\n",
       "<g class=\"node\" id=\"node2\"><title>decisionVar2</title>\n",
       "<polygon fill=\"lightgrey\" points=\"236.356,-252 147.356,-252 147.356,-216 236.356,-216 236.356,-252\" stroke=\"black\"/>\n",
       "<text font-family=\"Times,serif\" font-size=\"14.00\" text-anchor=\"middle\" x=\"191.856\" y=\"-230.3\">decisionVar2</text>\n",
       "</g>\n",
       "<!-- utilityVar1 -->\n",
       "<g class=\"node\" id=\"node5\"><title>utilityVar1</title>\n",
       "<polygon fill=\"lightgrey\" points=\"69.856,-180 0.143752,-162 69.856,-144 139.568,-162 69.856,-180\" stroke=\"black\"/>\n",
       "<text font-family=\"Times,serif\" font-size=\"14.00\" text-anchor=\"middle\" x=\"69.856\" y=\"-158.3\">utilityVar1</text>\n",
       "</g>\n",
       "<!-- decisionVar2&#45;&gt;utilityVar1 -->\n",
       "<g class=\"edge\" id=\"edge2\"><title>decisionVar2-&gt;utilityVar1</title>\n",
       "<path d=\"M162.011,-215.876C142.976,-204.954 118.407,-190.857 99.4254,-179.966\" fill=\"none\" stroke=\"black\"/>\n",
       "<polygon fill=\"black\" points=\"101.02,-176.846 90.6045,-174.905 97.5363,-182.917 101.02,-176.846\" stroke=\"black\"/>\n",
       "</g>\n",
       "<!-- chanceVar4 -->\n",
       "<g class=\"node\" id=\"node10\"><title>chanceVar4</title>\n",
       "<ellipse cx=\"210.856\" cy=\"-162\" fill=\"lightgrey\" rx=\"52.7911\" ry=\"18\" stroke=\"black\"/>\n",
       "<text font-family=\"Times,serif\" font-size=\"14.00\" text-anchor=\"middle\" x=\"210.856\" y=\"-158.3\">chanceVar4</text>\n",
       "</g>\n",
       "<!-- decisionVar2&#45;&gt;chanceVar4 -->\n",
       "<g class=\"edge\" id=\"edge3\"><title>decisionVar2-&gt;chanceVar4</title>\n",
       "<path d=\"M196.553,-215.697C198.669,-207.898 201.218,-198.509 203.574,-189.829\" fill=\"none\" stroke=\"black\"/>\n",
       "<polygon fill=\"black\" points=\"206.972,-190.672 206.213,-180.104 200.216,-188.838 206.972,-190.672\" stroke=\"black\"/>\n",
       "</g>\n",
       "<!-- decisionVar3 -->\n",
       "<g class=\"node\" id=\"node3\"><title>decisionVar3</title>\n",
       "<polygon fill=\"lightgrey\" points=\"366.356,-252 277.356,-252 277.356,-216 366.356,-216 366.356,-252\" stroke=\"black\"/>\n",
       "<text font-family=\"Times,serif\" font-size=\"14.00\" text-anchor=\"middle\" x=\"321.856\" y=\"-230.3\">decisionVar3</text>\n",
       "</g>\n",
       "<!-- chanceVar3 -->\n",
       "<g class=\"node\" id=\"node9\"><title>chanceVar3</title>\n",
       "<ellipse cx=\"333.856\" cy=\"-162\" fill=\"lightgrey\" rx=\"52.7911\" ry=\"18\" stroke=\"black\"/>\n",
       "<text font-family=\"Times,serif\" font-size=\"14.00\" text-anchor=\"middle\" x=\"333.856\" y=\"-158.3\">chanceVar3</text>\n",
       "</g>\n",
       "<!-- decisionVar3&#45;&gt;chanceVar3 -->\n",
       "<g class=\"edge\" id=\"edge4\"><title>decisionVar3-&gt;chanceVar3</title>\n",
       "<path d=\"M324.822,-215.697C326.145,-207.983 327.734,-198.712 329.208,-190.112\" fill=\"none\" stroke=\"black\"/>\n",
       "<polygon fill=\"black\" points=\"332.684,-190.552 330.924,-180.104 325.784,-189.369 332.684,-190.552\" stroke=\"black\"/>\n",
       "</g>\n",
       "<!-- decisionVar4 -->\n",
       "<g class=\"node\" id=\"node4\"><title>decisionVar4</title>\n",
       "<polygon fill=\"lightgrey\" points=\"431.356,-108 342.356,-108 342.356,-72 431.356,-72 431.356,-108\" stroke=\"black\"/>\n",
       "<text font-family=\"Times,serif\" font-size=\"14.00\" text-anchor=\"middle\" x=\"386.856\" y=\"-86.3\">decisionVar4</text>\n",
       "</g>\n",
       "<!-- utilityVar2 -->\n",
       "<g class=\"node\" id=\"node6\"><title>utilityVar2</title>\n",
       "<polygon fill=\"lightgrey\" points=\"328.856,-36 259.144,-18 328.856,-3.55271e-15 398.568,-18 328.856,-36\" stroke=\"black\"/>\n",
       "<text font-family=\"Times,serif\" font-size=\"14.00\" text-anchor=\"middle\" x=\"328.856\" y=\"-14.3\">utilityVar2</text>\n",
       "</g>\n",
       "<!-- decisionVar4&#45;&gt;utilityVar2 -->\n",
       "<g class=\"edge\" id=\"edge5\"><title>decisionVar4-&gt;utilityVar2</title>\n",
       "<path d=\"M372.519,-71.6966C364.866,-62.4607 355.365,-50.9936 347.182,-41.1172\" fill=\"none\" stroke=\"black\"/>\n",
       "<polygon fill=\"black\" points=\"349.762,-38.7461 340.687,-33.279 344.372,-43.2123 349.762,-38.7461\" stroke=\"black\"/>\n",
       "</g>\n",
       "<!-- chanceVar1&#45;&gt;utilityVar1 -->\n",
       "<g class=\"edge\" id=\"edge6\"><title>chanceVar1-&gt;utilityVar1</title>\n",
       "<path d=\"M130.566,-359.849C118.984,-322.294 91.3292,-232.625 77.709,-188.463\" fill=\"none\" stroke=\"black\"/>\n",
       "<polygon fill=\"black\" points=\"81.0111,-187.294 74.7193,-178.769 74.322,-189.357 81.0111,-187.294\" stroke=\"black\"/>\n",
       "</g>\n",
       "<!-- chanceVar2 -->\n",
       "<g class=\"node\" id=\"node8\"><title>chanceVar2</title>\n",
       "<ellipse cx=\"191.856\" cy=\"-306\" fill=\"lightgrey\" rx=\"52.7911\" ry=\"18\" stroke=\"black\"/>\n",
       "<text font-family=\"Times,serif\" font-size=\"14.00\" text-anchor=\"middle\" x=\"191.856\" y=\"-302.3\">chanceVar2</text>\n",
       "</g>\n",
       "<!-- chanceVar1&#45;&gt;chanceVar2 -->\n",
       "<g class=\"edge\" id=\"edge7\"><title>chanceVar1-&gt;chanceVar2</title>\n",
       "<path d=\"M149.127,-360.411C156.032,-351.781 164.606,-341.062 172.258,-331.497\" fill=\"none\" stroke=\"black\"/>\n",
       "<polygon fill=\"black\" points=\"175.166,-333.465 178.68,-323.47 169.7,-329.092 175.166,-333.465\" stroke=\"black\"/>\n",
       "</g>\n",
       "<!-- chanceVar2&#45;&gt;decisionVar2 -->\n",
       "<g class=\"edge\" id=\"edge8\"><title>chanceVar2-&gt;decisionVar2</title>\n",
       "<path d=\"M191.856,-287.697C191.856,-279.983 191.856,-270.712 191.856,-262.112\" fill=\"none\" stroke=\"black\"/>\n",
       "<polygon fill=\"black\" points=\"195.356,-262.104 191.856,-252.104 188.356,-262.104 195.356,-262.104\" stroke=\"black\"/>\n",
       "</g>\n",
       "<!-- chanceVar2&#45;&gt;decisionVar3 -->\n",
       "<g class=\"edge\" id=\"edge9\"><title>chanceVar2-&gt;decisionVar3</title>\n",
       "<path d=\"M218.792,-290.496C236.721,-280.842 260.616,-267.975 280.884,-257.062\" fill=\"none\" stroke=\"black\"/>\n",
       "<polygon fill=\"black\" points=\"282.761,-260.026 289.906,-252.204 279.442,-253.863 282.761,-260.026\" stroke=\"black\"/>\n",
       "</g>\n",
       "<!-- chanceVar5 -->\n",
       "<g class=\"node\" id=\"node11\"><title>chanceVar5</title>\n",
       "<ellipse cx=\"271.856\" cy=\"-90\" fill=\"lightgrey\" rx=\"52.7911\" ry=\"18\" stroke=\"black\"/>\n",
       "<text font-family=\"Times,serif\" font-size=\"14.00\" text-anchor=\"middle\" x=\"271.856\" y=\"-86.3\">chanceVar5</text>\n",
       "</g>\n",
       "<!-- chanceVar3&#45;&gt;chanceVar5 -->\n",
       "<g class=\"edge\" id=\"edge10\"><title>chanceVar3-&gt;chanceVar5</title>\n",
       "<path d=\"M319.163,-144.411C311.441,-135.693 301.833,-124.845 293.297,-115.208\" fill=\"none\" stroke=\"black\"/>\n",
       "<polygon fill=\"black\" points=\"295.694,-112.635 286.444,-107.47 290.454,-117.276 295.694,-112.635\" stroke=\"black\"/>\n",
       "</g>\n",
       "<!-- chanceVar4&#45;&gt;chanceVar5 -->\n",
       "<g class=\"edge\" id=\"edge11\"><title>chanceVar4-&gt;chanceVar5</title>\n",
       "<path d=\"M225.312,-144.411C232.909,-135.693 242.362,-124.845 250.761,-115.208\" fill=\"none\" stroke=\"black\"/>\n",
       "<polygon fill=\"black\" points=\"253.572,-117.309 257.504,-107.47 248.295,-112.71 253.572,-117.309\" stroke=\"black\"/>\n",
       "</g>\n",
       "<!-- chanceVar5&#45;&gt;utilityVar2 -->\n",
       "<g class=\"edge\" id=\"edge12\"><title>chanceVar5-&gt;utilityVar2</title>\n",
       "<path d=\"M285.364,-72.411C292.977,-63.0616 302.585,-51.2621 310.833,-41.1329\" fill=\"none\" stroke=\"black\"/>\n",
       "<polygon fill=\"black\" points=\"313.768,-43.072 317.368,-33.1076 308.34,-38.652 313.768,-43.072\" stroke=\"black\"/>\n",
       "</g>\n",
       "</g>\n",
       "</svg></div>"
      ],
      "text/plain": [
       "<IPython.core.display.HTML object>"
      ]
     },
     "metadata": {},
     "output_type": "display_data"
    }
   ],
   "source": [
    "diag=gum.loadID(\"../resources/diag.bifxml\")\n",
    "gnb.showInfluenceDiagram(diag,size=\"6\")"
   ]
  },
  {
   "cell_type": "code",
   "execution_count": 4,
   "metadata": {
    "collapsed": false
   },
   "outputs": [
    {
     "data": {
      "text/html": [
       "<div align='center'><svg height=\"432pt\" viewBox=\"0.00 0.00 423.70 432.00\" width=\"424pt\" xmlns=\"http://www.w3.org/2000/svg\" xmlns:xlink=\"http://www.w3.org/1999/xlink\">\n",
       "<g class=\"graph\" id=\"graph0\" transform=\"scale(0.907563 0.907563) rotate(0) translate(4 472)\">\n",
       "<title>../resources/diag.bifxml</title>\n",
       "<polygon fill=\"white\" points=\"-4,4 -4,-472 462.856,-472 462.856,4 -4,4\" stroke=\"none\"/>\n",
       "<!-- decisionVar1 -->\n",
       "<g class=\"node\" id=\"node1\"><title>decisionVar1</title>\n",
       "<polygon fill=\"lightgrey\" points=\"331.356,-468 242.356,-468 242.356,-432 331.356,-432 331.356,-468\" stroke=\"black\"/>\n",
       "<text font-family=\"Times,serif\" font-size=\"14.00\" text-anchor=\"middle\" x=\"286.856\" y=\"-446.3\">decisionVar1</text>\n",
       "</g>\n",
       "<!-- chanceVar1 -->\n",
       "<g class=\"node\" id=\"node8\"><title>chanceVar1</title>\n",
       "<ellipse cx=\"229.856\" cy=\"-378\" fill=\"lightgrey\" rx=\"52.7911\" ry=\"18\" stroke=\"black\"/>\n",
       "<text font-family=\"Times,serif\" font-size=\"14.00\" text-anchor=\"middle\" x=\"229.856\" y=\"-374.3\">chanceVar1</text>\n",
       "</g>\n",
       "<!-- decisionVar1&#45;&gt;chanceVar1 -->\n",
       "<g class=\"edge\" id=\"edge2\"><title>decisionVar1-&gt;chanceVar1</title>\n",
       "<path d=\"M272.766,-431.697C265.831,-423.179 257.35,-412.765 249.765,-403.45\" fill=\"none\" stroke=\"black\"/>\n",
       "<polygon fill=\"black\" points=\"252.42,-401.167 243.391,-395.622 246.992,-405.587 252.42,-401.167\" stroke=\"black\"/>\n",
       "</g>\n",
       "<!-- F -->\n",
       "<g class=\"node\" id=\"node13\"><title>F</title>\n",
       "<ellipse cx=\"376.856\" cy=\"-306\" fill=\"lightgrey\" rx=\"27\" ry=\"18\" stroke=\"black\"/>\n",
       "<text font-family=\"Times,serif\" font-size=\"14.00\" text-anchor=\"middle\" x=\"376.856\" y=\"-302.3\">F</text>\n",
       "</g>\n",
       "<!-- decisionVar1&#45;&gt;F -->\n",
       "<g class=\"edge\" id=\"edge1\"><title>decisionVar1-&gt;F</title>\n",
       "<path d=\"M297.712,-431.871C313.574,-406.844 343.167,-360.153 361.328,-331.499\" fill=\"none\" stroke=\"black\"/>\n",
       "<polygon fill=\"black\" points=\"364.394,-333.2 366.791,-322.88 358.481,-329.453 364.394,-333.2\" stroke=\"black\"/>\n",
       "</g>\n",
       "<!-- decisionVar2 -->\n",
       "<g class=\"node\" id=\"node2\"><title>decisionVar2</title>\n",
       "<polygon fill=\"lightgrey\" points=\"255.356,-252 166.356,-252 166.356,-216 255.356,-216 255.356,-252\" stroke=\"black\"/>\n",
       "<text font-family=\"Times,serif\" font-size=\"14.00\" text-anchor=\"middle\" x=\"210.856\" y=\"-230.3\">decisionVar2</text>\n",
       "</g>\n",
       "<!-- utilityVar1 -->\n",
       "<g class=\"node\" id=\"node5\"><title>utilityVar1</title>\n",
       "<polygon fill=\"lightgrey\" points=\"69.856,-180 0.143752,-162 69.856,-144 139.568,-162 69.856,-180\" stroke=\"black\"/>\n",
       "<text font-family=\"Times,serif\" font-size=\"14.00\" text-anchor=\"middle\" x=\"69.856\" y=\"-158.3\">utilityVar1</text>\n",
       "</g>\n",
       "<!-- decisionVar2&#45;&gt;utilityVar1 -->\n",
       "<g class=\"edge\" id=\"edge3\"><title>decisionVar2-&gt;utilityVar1</title>\n",
       "<path d=\"M176.363,-215.876C153.535,-204.543 123.822,-189.792 101.581,-178.75\" fill=\"none\" stroke=\"black\"/>\n",
       "<polygon fill=\"black\" points=\"103.062,-175.578 92.5492,-174.266 99.9498,-181.848 103.062,-175.578\" stroke=\"black\"/>\n",
       "</g>\n",
       "<!-- chanceVar4 -->\n",
       "<g class=\"node\" id=\"node11\"><title>chanceVar4</title>\n",
       "<ellipse cx=\"210.856\" cy=\"-162\" fill=\"lightgrey\" rx=\"52.7911\" ry=\"18\" stroke=\"black\"/>\n",
       "<text font-family=\"Times,serif\" font-size=\"14.00\" text-anchor=\"middle\" x=\"210.856\" y=\"-158.3\">chanceVar4</text>\n",
       "</g>\n",
       "<!-- decisionVar2&#45;&gt;chanceVar4 -->\n",
       "<g class=\"edge\" id=\"edge4\"><title>decisionVar2-&gt;chanceVar4</title>\n",
       "<path d=\"M210.856,-215.697C210.856,-207.983 210.856,-198.712 210.856,-190.112\" fill=\"none\" stroke=\"black\"/>\n",
       "<polygon fill=\"black\" points=\"214.356,-190.104 210.856,-180.104 207.356,-190.104 214.356,-190.104\" stroke=\"black\"/>\n",
       "</g>\n",
       "<!-- decisionVar3 -->\n",
       "<g class=\"node\" id=\"node3\"><title>decisionVar3</title>\n",
       "<polygon fill=\"lightgrey\" points=\"378.356,-252 289.356,-252 289.356,-216 378.356,-216 378.356,-252\" stroke=\"black\"/>\n",
       "<text font-family=\"Times,serif\" font-size=\"14.00\" text-anchor=\"middle\" x=\"333.856\" y=\"-230.3\">decisionVar3</text>\n",
       "</g>\n",
       "<!-- U -->\n",
       "<g class=\"node\" id=\"node7\"><title>U</title>\n",
       "<polygon fill=\"lightgrey\" points=\"431.856,-180 404.856,-162 431.856,-144 458.856,-162 431.856,-180\" stroke=\"black\"/>\n",
       "<text font-family=\"Times,serif\" font-size=\"14.00\" text-anchor=\"middle\" x=\"431.856\" y=\"-158.3\">U</text>\n",
       "</g>\n",
       "<!-- decisionVar3&#45;&gt;U -->\n",
       "<g class=\"edge\" id=\"edge6\"><title>decisionVar3-&gt;U</title>\n",
       "<path d=\"M357.829,-215.876C374.124,-204.237 395.467,-188.992 411.047,-177.864\" fill=\"none\" stroke=\"black\"/>\n",
       "<polygon fill=\"black\" points=\"413.369,-180.506 419.472,-171.846 409.3,-174.81 413.369,-180.506\" stroke=\"black\"/>\n",
       "</g>\n",
       "<!-- chanceVar3 -->\n",
       "<g class=\"node\" id=\"node10\"><title>chanceVar3</title>\n",
       "<ellipse cx=\"333.856\" cy=\"-162\" fill=\"lightgrey\" rx=\"52.7911\" ry=\"18\" stroke=\"black\"/>\n",
       "<text font-family=\"Times,serif\" font-size=\"14.00\" text-anchor=\"middle\" x=\"333.856\" y=\"-158.3\">chanceVar3</text>\n",
       "</g>\n",
       "<!-- decisionVar3&#45;&gt;chanceVar3 -->\n",
       "<g class=\"edge\" id=\"edge5\"><title>decisionVar3-&gt;chanceVar3</title>\n",
       "<path d=\"M333.856,-215.697C333.856,-207.983 333.856,-198.712 333.856,-190.112\" fill=\"none\" stroke=\"black\"/>\n",
       "<polygon fill=\"black\" points=\"337.356,-190.104 333.856,-180.104 330.356,-190.104 337.356,-190.104\" stroke=\"black\"/>\n",
       "</g>\n",
       "<!-- decisionVar4 -->\n",
       "<g class=\"node\" id=\"node4\"><title>decisionVar4</title>\n",
       "<polygon fill=\"lightgrey\" points=\"431.356,-108 342.356,-108 342.356,-72 431.356,-72 431.356,-108\" stroke=\"black\"/>\n",
       "<text font-family=\"Times,serif\" font-size=\"14.00\" text-anchor=\"middle\" x=\"386.856\" y=\"-86.3\">decisionVar4</text>\n",
       "</g>\n",
       "<!-- utilityVar2 -->\n",
       "<g class=\"node\" id=\"node6\"><title>utilityVar2</title>\n",
       "<polygon fill=\"lightgrey\" points=\"328.856,-36 259.144,-18 328.856,-3.55271e-15 398.568,-18 328.856,-36\" stroke=\"black\"/>\n",
       "<text font-family=\"Times,serif\" font-size=\"14.00\" text-anchor=\"middle\" x=\"328.856\" y=\"-14.3\">utilityVar2</text>\n",
       "</g>\n",
       "<!-- decisionVar4&#45;&gt;utilityVar2 -->\n",
       "<g class=\"edge\" id=\"edge7\"><title>decisionVar4-&gt;utilityVar2</title>\n",
       "<path d=\"M372.519,-71.6966C364.866,-62.4607 355.365,-50.9936 347.182,-41.1172\" fill=\"none\" stroke=\"black\"/>\n",
       "<polygon fill=\"black\" points=\"349.762,-38.7461 340.687,-33.279 344.372,-43.2123 349.762,-38.7461\" stroke=\"black\"/>\n",
       "</g>\n",
       "<!-- chanceVar1&#45;&gt;utilityVar1 -->\n",
       "<g class=\"edge\" id=\"edge8\"><title>chanceVar1-&gt;utilityVar1</title>\n",
       "<path d=\"M208.545,-361.536C195.833,-351.674 179.879,-338.127 167.856,-324 130.568,-280.19 98.2748,-220.619 81.7026,-187.598\" fill=\"none\" stroke=\"black\"/>\n",
       "<polygon fill=\"black\" points=\"84.6485,-185.66 77.0761,-178.25 78.3747,-188.765 84.6485,-185.66\" stroke=\"black\"/>\n",
       "</g>\n",
       "<!-- chanceVar2 -->\n",
       "<g class=\"node\" id=\"node9\"><title>chanceVar2</title>\n",
       "<ellipse cx=\"229.856\" cy=\"-306\" fill=\"lightgrey\" rx=\"52.7911\" ry=\"18\" stroke=\"black\"/>\n",
       "<text font-family=\"Times,serif\" font-size=\"14.00\" text-anchor=\"middle\" x=\"229.856\" y=\"-302.3\">chanceVar2</text>\n",
       "</g>\n",
       "<!-- chanceVar1&#45;&gt;chanceVar2 -->\n",
       "<g class=\"edge\" id=\"edge9\"><title>chanceVar1-&gt;chanceVar2</title>\n",
       "<path d=\"M229.856,-359.697C229.856,-351.983 229.856,-342.712 229.856,-334.112\" fill=\"none\" stroke=\"black\"/>\n",
       "<polygon fill=\"black\" points=\"233.356,-334.104 229.856,-324.104 226.356,-334.104 233.356,-334.104\" stroke=\"black\"/>\n",
       "</g>\n",
       "<!-- chanceVar2&#45;&gt;decisionVar2 -->\n",
       "<g class=\"edge\" id=\"edge10\"><title>chanceVar2-&gt;decisionVar2</title>\n",
       "<path d=\"M225.257,-288.055C223.141,-280.261 220.579,-270.822 218.206,-262.079\" fill=\"none\" stroke=\"black\"/>\n",
       "<polygon fill=\"black\" points=\"221.542,-261.009 215.545,-252.275 214.787,-262.843 221.542,-261.009\" stroke=\"black\"/>\n",
       "</g>\n",
       "<!-- chanceVar2&#45;&gt;decisionVar3 -->\n",
       "<g class=\"edge\" id=\"edge11\"><title>chanceVar2-&gt;decisionVar3</title>\n",
       "<path d=\"M252.679,-289.638C266.604,-280.266 284.655,-268.116 300.198,-257.654\" fill=\"none\" stroke=\"black\"/>\n",
       "<polygon fill=\"black\" points=\"302.192,-260.532 308.533,-252.044 298.283,-254.724 302.192,-260.532\" stroke=\"black\"/>\n",
       "</g>\n",
       "<!-- chanceVar5 -->\n",
       "<g class=\"node\" id=\"node12\"><title>chanceVar5</title>\n",
       "<ellipse cx=\"271.856\" cy=\"-90\" fill=\"lightgrey\" rx=\"52.7911\" ry=\"18\" stroke=\"black\"/>\n",
       "<text font-family=\"Times,serif\" font-size=\"14.00\" text-anchor=\"middle\" x=\"271.856\" y=\"-86.3\">chanceVar5</text>\n",
       "</g>\n",
       "<!-- chanceVar3&#45;&gt;chanceVar5 -->\n",
       "<g class=\"edge\" id=\"edge12\"><title>chanceVar3-&gt;chanceVar5</title>\n",
       "<path d=\"M319.163,-144.411C311.441,-135.693 301.833,-124.845 293.297,-115.208\" fill=\"none\" stroke=\"black\"/>\n",
       "<polygon fill=\"black\" points=\"295.694,-112.635 286.444,-107.47 290.454,-117.276 295.694,-112.635\" stroke=\"black\"/>\n",
       "</g>\n",
       "<!-- chanceVar4&#45;&gt;chanceVar5 -->\n",
       "<g class=\"edge\" id=\"edge13\"><title>chanceVar4-&gt;chanceVar5</title>\n",
       "<path d=\"M225.312,-144.411C232.909,-135.693 242.362,-124.845 250.761,-115.208\" fill=\"none\" stroke=\"black\"/>\n",
       "<polygon fill=\"black\" points=\"253.572,-117.309 257.504,-107.47 248.295,-112.71 253.572,-117.309\" stroke=\"black\"/>\n",
       "</g>\n",
       "<!-- chanceVar5&#45;&gt;utilityVar2 -->\n",
       "<g class=\"edge\" id=\"edge14\"><title>chanceVar5-&gt;utilityVar2</title>\n",
       "<path d=\"M285.364,-72.411C292.977,-63.0616 302.585,-51.2621 310.833,-41.1329\" fill=\"none\" stroke=\"black\"/>\n",
       "<polygon fill=\"black\" points=\"313.768,-43.072 317.368,-33.1076 308.34,-38.652 313.768,-43.072\" stroke=\"black\"/>\n",
       "</g>\n",
       "<!-- F&#45;&gt;U -->\n",
       "<g class=\"edge\" id=\"edge15\"><title>F-&gt;U</title>\n",
       "<path d=\"M383.273,-288.433C393.065,-263.151 411.77,-214.858 422.896,-186.132\" fill=\"none\" stroke=\"black\"/>\n",
       "<polygon fill=\"black\" points=\"426.274,-187.102 426.622,-176.513 419.746,-184.574 426.274,-187.102\" stroke=\"black\"/>\n",
       "</g>\n",
       "</g>\n",
       "</svg></div>"
      ],
      "text/plain": [
       "<IPython.core.display.HTML object>"
      ]
     },
     "metadata": {},
     "output_type": "display_data"
    }
   ],
   "source": [
    "F=diag.addChanceNode(gum.LabelizedVariable(\"F\",\"F\",2))\n",
    "diag.addArc(diag.idFromName(\"decisionVar1\"),F)\n",
    "\n",
    "U=diag.addUtilityNode(gum.LabelizedVariable(\"U\",\"U\",1))\n",
    "diag.addArc(diag.idFromName(\"decisionVar3\"),U)\n",
    "diag.addArc(diag.idFromName(\"F\"),U)\n",
    "\n",
    "gnb.showInfluenceDiagram(diag,size=\"6\")"
   ]
  },
  {
   "cell_type": "code",
   "execution_count": 5,
   "metadata": {
    "collapsed": false
   },
   "outputs": [],
   "source": [
    "diag.cpt(F)[{'decisionVar1':0}]=[0.9,0.1]\n",
    "diag.cpt(F)[{'decisionVar1':1}]=[0.3,0.7]\n",
    "\n",
    "diag.utility(U)[{'F':0,'decisionVar3':0}]=2\n",
    "diag.utility(U)[{'F':0,'decisionVar3':1}]=4\n",
    "diag.utility(U)[{'F':1}]=[[0],[5]]"
   ]
  },
  {
   "cell_type": "code",
   "execution_count": 6,
   "metadata": {
    "collapsed": false
   },
   "outputs": [
    {
     "data": {
      "text/html": [
       "<div align='center'><svg height=\"233pt\" viewBox=\"0.00 0.00 288.00 232.55\" width=\"288pt\" xmlns=\"http://www.w3.org/2000/svg\" xmlns:xlink=\"http://www.w3.org/1999/xlink\">\n",
       "<g class=\"graph\" id=\"graph0\" transform=\"scale(0.89441 0.89441) rotate(0) translate(4 256)\">\n",
       "<title>../resources/DecAsia.bifxml</title>\n",
       "<polygon fill=\"white\" points=\"-4,4 -4,-256 318,-256 318,4 -4,4\" stroke=\"none\"/>\n",
       "<!-- H -->\n",
       "<g class=\"node\" id=\"node1\"><title>H</title>\n",
       "<polygon fill=\"lightgrey\" points=\"76,-180 22,-180 22,-144 76,-144 76,-180\" stroke=\"black\"/>\n",
       "<text font-family=\"Times,serif\" font-size=\"14.00\" text-anchor=\"middle\" x=\"49\" y=\"-158.3\">H</text>\n",
       "</g>\n",
       "<!-- Ta -->\n",
       "<g class=\"node\" id=\"node2\"><title>Ta</title>\n",
       "<polygon fill=\"lightgrey\" points=\"54,-108 0,-108 0,-72 54,-72 54,-108\" stroke=\"black\"/>\n",
       "<text font-family=\"Times,serif\" font-size=\"14.00\" text-anchor=\"middle\" x=\"27\" y=\"-86.3\">Ta</text>\n",
       "</g>\n",
       "<!-- H&#45;&gt;Ta -->\n",
       "<g class=\"edge\" id=\"edge1\"><title>H-&gt;Ta</title>\n",
       "<path d=\"M43.5618,-143.697C41.1108,-135.898 38.1598,-126.509 35.432,-117.829\" fill=\"none\" stroke=\"black\"/>\n",
       "<polygon fill=\"black\" points=\"38.713,-116.595 32.3756,-108.104 32.035,-118.694 38.713,-116.595\" stroke=\"black\"/>\n",
       "</g>\n",
       "<!-- Uh -->\n",
       "<g class=\"node\" id=\"node3\"><title>Uh</title>\n",
       "<polygon fill=\"lightgrey\" points=\"102,-108 71.8347,-90 102,-72 132.165,-90 102,-108\" stroke=\"black\"/>\n",
       "<text font-family=\"Times,serif\" font-size=\"14.00\" text-anchor=\"middle\" x=\"102\" y=\"-86.3\">Uh</text>\n",
       "</g>\n",
       "<!-- H&#45;&gt;Uh -->\n",
       "<g class=\"edge\" id=\"edge2\"><title>H-&gt;Uh</title>\n",
       "<path d=\"M62.1011,-143.697C69.573,-133.828 78.9735,-121.412 86.7728,-111.111\" fill=\"none\" stroke=\"black\"/>\n",
       "<polygon fill=\"black\" points=\"89.6241,-113.144 92.8701,-103.058 84.0433,-108.918 89.6241,-113.144\" stroke=\"black\"/>\n",
       "</g>\n",
       "<!-- Ut -->\n",
       "<g class=\"node\" id=\"node4\"><title>Ut</title>\n",
       "<polygon fill=\"lightgrey\" points=\"74,-36 46.3504,-18 74,-3.55271e-15 101.65,-18 74,-36\" stroke=\"black\"/>\n",
       "<text font-family=\"Times,serif\" font-size=\"14.00\" text-anchor=\"middle\" x=\"74\" y=\"-14.3\">Ut</text>\n",
       "</g>\n",
       "<!-- Ta&#45;&gt;Ut -->\n",
       "<g class=\"edge\" id=\"edge3\"><title>Ta-&gt;Ut</title>\n",
       "<path d=\"M38.618,-71.6966C45.1777,-61.9268 53.4137,-49.6604 60.2887,-39.421\" fill=\"none\" stroke=\"black\"/>\n",
       "<polygon fill=\"black\" points=\"63.2351,-41.3116 65.9037,-31.0583 57.4235,-37.4095 63.2351,-41.3116\" stroke=\"black\"/>\n",
       "</g>\n",
       "<!-- P -->\n",
       "<g class=\"node\" id=\"node10\"><title>P</title>\n",
       "<ellipse cx=\"168\" cy=\"-18\" fill=\"lightgrey\" rx=\"27\" ry=\"18\" stroke=\"black\"/>\n",
       "<text font-family=\"Times,serif\" font-size=\"14.00\" text-anchor=\"middle\" x=\"168\" y=\"-14.3\">P</text>\n",
       "</g>\n",
       "<!-- Ta&#45;&gt;P -->\n",
       "<g class=\"edge\" id=\"edge4\"><title>Ta-&gt;P</title>\n",
       "<path d=\"M54.1862,-75.5033C78.1707,-63.5961 113.075,-46.2677 137.896,-33.9451\" fill=\"none\" stroke=\"black\"/>\n",
       "<polygon fill=\"black\" points=\"139.471,-37.0709 146.872,-29.4892 136.358,-30.801 139.471,-37.0709\" stroke=\"black\"/>\n",
       "</g>\n",
       "<!-- S -->\n",
       "<g class=\"node\" id=\"node5\"><title>S</title>\n",
       "<ellipse cx=\"246\" cy=\"-234\" fill=\"lightgrey\" rx=\"27\" ry=\"18\" stroke=\"black\"/>\n",
       "<text font-family=\"Times,serif\" font-size=\"14.00\" text-anchor=\"middle\" x=\"246\" y=\"-230.3\">S</text>\n",
       "</g>\n",
       "<!-- B -->\n",
       "<g class=\"node\" id=\"node6\"><title>B</title>\n",
       "<ellipse cx=\"287\" cy=\"-90\" fill=\"lightgrey\" rx=\"27\" ry=\"18\" stroke=\"black\"/>\n",
       "<text font-family=\"Times,serif\" font-size=\"14.00\" text-anchor=\"middle\" x=\"287\" y=\"-86.3\">B</text>\n",
       "</g>\n",
       "<!-- S&#45;&gt;B -->\n",
       "<g class=\"edge\" id=\"edge5\"><title>S-&gt;B</title>\n",
       "<path d=\"M250.864,-216.153C257.892,-191.813 270.956,-146.568 279.301,-117.665\" fill=\"none\" stroke=\"black\"/>\n",
       "<polygon fill=\"black\" points=\"282.731,-118.403 282.142,-107.825 276.005,-116.462 282.731,-118.403\" stroke=\"black\"/>\n",
       "</g>\n",
       "<!-- L -->\n",
       "<g class=\"node\" id=\"node7\"><title>L</title>\n",
       "<ellipse cx=\"219\" cy=\"-162\" fill=\"lightgrey\" rx=\"27\" ry=\"18\" stroke=\"black\"/>\n",
       "<text font-family=\"Times,serif\" font-size=\"14.00\" text-anchor=\"middle\" x=\"219\" y=\"-158.3\">L</text>\n",
       "</g>\n",
       "<!-- S&#45;&gt;L -->\n",
       "<g class=\"edge\" id=\"edge6\"><title>S-&gt;L</title>\n",
       "<path d=\"M239.601,-216.411C236.486,-208.335 232.666,-198.431 229.165,-189.355\" fill=\"none\" stroke=\"black\"/>\n",
       "<polygon fill=\"black\" points=\"232.405,-188.027 225.54,-179.956 225.874,-190.546 232.405,-188.027\" stroke=\"black\"/>\n",
       "</g>\n",
       "<!-- D -->\n",
       "<g class=\"node\" id=\"node9\"><title>D</title>\n",
       "<ellipse cx=\"251\" cy=\"-18\" fill=\"lightgrey\" rx=\"27\" ry=\"18\" stroke=\"black\"/>\n",
       "<text font-family=\"Times,serif\" font-size=\"14.00\" text-anchor=\"middle\" x=\"251\" y=\"-14.3\">D</text>\n",
       "</g>\n",
       "<!-- B&#45;&gt;D -->\n",
       "<g class=\"edge\" id=\"edge7\"><title>B-&gt;D</title>\n",
       "<path d=\"M278.65,-72.7646C274.288,-64.2831 268.853,-53.7144 263.959,-44.1974\" fill=\"none\" stroke=\"black\"/>\n",
       "<polygon fill=\"black\" points=\"266.99,-42.4395 259.304,-35.1473 260.765,-45.6409 266.99,-42.4395\" stroke=\"black\"/>\n",
       "</g>\n",
       "<!-- L&#45;&gt;Uh -->\n",
       "<g class=\"edge\" id=\"edge9\"><title>L-&gt;Uh</title>\n",
       "<path d=\"M199.417,-149.284C178.925,-137.024 146.774,-117.788 125.067,-104.801\" fill=\"none\" stroke=\"black\"/>\n",
       "<polygon fill=\"black\" points=\"126.846,-101.787 116.468,-99.6558 123.252,-107.793 126.846,-101.787\" stroke=\"black\"/>\n",
       "</g>\n",
       "<!-- E -->\n",
       "<g class=\"node\" id=\"node8\"><title>E</title>\n",
       "<ellipse cx=\"215\" cy=\"-90\" fill=\"lightgrey\" rx=\"27\" ry=\"18\" stroke=\"black\"/>\n",
       "<text font-family=\"Times,serif\" font-size=\"14.00\" text-anchor=\"middle\" x=\"215\" y=\"-86.3\">E</text>\n",
       "</g>\n",
       "<!-- L&#45;&gt;E -->\n",
       "<g class=\"edge\" id=\"edge8\"><title>L-&gt;E</title>\n",
       "<path d=\"M218.011,-143.697C217.57,-135.983 217.041,-126.712 216.549,-118.112\" fill=\"none\" stroke=\"black\"/>\n",
       "<polygon fill=\"black\" points=\"220.042,-117.888 215.977,-108.104 213.054,-118.288 220.042,-117.888\" stroke=\"black\"/>\n",
       "</g>\n",
       "<!-- E&#45;&gt;D -->\n",
       "<g class=\"edge\" id=\"edge10\"><title>E-&gt;D</title>\n",
       "<path d=\"M223.35,-72.7646C227.712,-64.2831 233.147,-53.7144 238.041,-44.1974\" fill=\"none\" stroke=\"black\"/>\n",
       "<polygon fill=\"black\" points=\"241.235,-45.6409 242.696,-35.1473 235.01,-42.4395 241.235,-45.6409\" stroke=\"black\"/>\n",
       "</g>\n",
       "<!-- E&#45;&gt;P -->\n",
       "<g class=\"edge\" id=\"edge11\"><title>E-&gt;P</title>\n",
       "<path d=\"M204.335,-73.1159C198.446,-64.345 191.006,-53.2637 184.394,-43.4162\" fill=\"none\" stroke=\"black\"/>\n",
       "<polygon fill=\"black\" points=\"187.103,-41.1724 178.623,-34.8212 181.291,-45.0745 187.103,-41.1724\" stroke=\"black\"/>\n",
       "</g>\n",
       "<!-- Tu -->\n",
       "<g class=\"node\" id=\"node11\"><title>Tu</title>\n",
       "<ellipse cx=\"147\" cy=\"-162\" fill=\"lightgrey\" rx=\"27\" ry=\"18\" stroke=\"black\"/>\n",
       "<text font-family=\"Times,serif\" font-size=\"14.00\" text-anchor=\"middle\" x=\"147\" y=\"-158.3\">Tu</text>\n",
       "</g>\n",
       "<!-- Tu&#45;&gt;Uh -->\n",
       "<g class=\"edge\" id=\"edge14\"><title>Tu-&gt;Uh</title>\n",
       "<path d=\"M136.789,-145.116C130.531,-135.382 122.444,-122.802 115.643,-112.222\" fill=\"none\" stroke=\"black\"/>\n",
       "<polygon fill=\"black\" points=\"118.426,-110.079 110.074,-103.56 112.538,-113.865 118.426,-110.079\" stroke=\"black\"/>\n",
       "</g>\n",
       "<!-- Tu&#45;&gt;Ut -->\n",
       "<g class=\"edge\" id=\"edge12\"><title>Tu-&gt;Ut</title>\n",
       "<path d=\"M149.775,-143.829C151.953,-125.049 152.9,-94.6126 141,-72 131.619,-54.1748 113.335,-40.346 98.234,-31.2901\" fill=\"none\" stroke=\"black\"/>\n",
       "<polygon fill=\"black\" points=\"99.7798,-28.1436 89.351,-26.2753 96.3385,-34.2393 99.7798,-28.1436\" stroke=\"black\"/>\n",
       "</g>\n",
       "<!-- Tu&#45;&gt;E -->\n",
       "<g class=\"edge\" id=\"edge13\"><title>Tu-&gt;E</title>\n",
       "<path d=\"M161.09,-146.496C170.572,-136.735 183.244,-123.69 193.92,-112.7\" fill=\"none\" stroke=\"black\"/>\n",
       "<polygon fill=\"black\" points=\"196.471,-115.097 200.928,-105.485 191.45,-110.22 196.471,-115.097\" stroke=\"black\"/>\n",
       "</g>\n",
       "<!-- A -->\n",
       "<g class=\"node\" id=\"node12\"><title>A</title>\n",
       "<ellipse cx=\"147\" cy=\"-234\" fill=\"lightgrey\" rx=\"27\" ry=\"18\" stroke=\"black\"/>\n",
       "<text font-family=\"Times,serif\" font-size=\"14.00\" text-anchor=\"middle\" x=\"147\" y=\"-230.3\">A</text>\n",
       "</g>\n",
       "<!-- A&#45;&gt;Tu -->\n",
       "<g class=\"edge\" id=\"edge15\"><title>A-&gt;Tu</title>\n",
       "<path d=\"M147,-215.697C147,-207.983 147,-198.712 147,-190.112\" fill=\"none\" stroke=\"black\"/>\n",
       "<polygon fill=\"black\" points=\"150.5,-190.104 147,-180.104 143.5,-190.104 150.5,-190.104\" stroke=\"black\"/>\n",
       "</g>\n",
       "</g>\n",
       "</svg></div>"
      ],
      "text/plain": [
       "<IPython.core.display.HTML object>"
      ]
     },
     "metadata": {},
     "output_type": "display_data"
    }
   ],
   "source": [
    "asia=gum.loadID(\"../resources/DecAsia.bifxml\")\n",
    "gnb.showInfluenceDiagram(asia)"
   ]
  },
  {
   "cell_type": "code",
   "execution_count": 7,
   "metadata": {
    "collapsed": false
   },
   "outputs": [
    {
     "data": {
      "text/html": [
       "<div align='center'><svg height=\"260pt\" viewBox=\"0.00 0.00 180.51 260.00\" width=\"181pt\" xmlns=\"http://www.w3.org/2000/svg\" xmlns:xlink=\"http://www.w3.org/1999/xlink\">\n",
       "<g class=\"graph\" id=\"graph0\" transform=\"scale(1 1) rotate(0) translate(4 256)\">\n",
       "<title>../resources/OilWildcater.bifxml</title>\n",
       "<polygon fill=\"white\" points=\"-4,4 -4,-256 176.513,-256 176.513,4 -4,4\" stroke=\"none\"/>\n",
       "<!-- T -->\n",
       "<g class=\"node\" id=\"node1\"><title>T</title>\n",
       "<polygon fill=\"lightgrey\" points=\"69.181,-252 15.181,-252 15.181,-216 69.181,-216 69.181,-252\" stroke=\"black\"/>\n",
       "<text font-family=\"Times,serif\" font-size=\"14.00\" text-anchor=\"middle\" x=\"42.181\" y=\"-230.3\">T</text>\n",
       "</g>\n",
       "<!-- D -->\n",
       "<g class=\"node\" id=\"node2\"><title>D</title>\n",
       "<polygon fill=\"lightgrey\" points=\"142.181,-108 88.181,-108 88.181,-72 142.181,-72 142.181,-108\" stroke=\"black\"/>\n",
       "<text font-family=\"Times,serif\" font-size=\"14.00\" text-anchor=\"middle\" x=\"115.181\" y=\"-86.3\">D</text>\n",
       "</g>\n",
       "<!-- T&#45;&gt;D -->\n",
       "<g class=\"edge\" id=\"edge1\"><title>T-&gt;D</title>\n",
       "<path d=\"M25.6239,-215.782C9.87342,-197.228 -9.41714,-167.238 5.18104,-144 21.109,-118.645 52.9482,-105.135 78.2914,-98.117\" fill=\"none\" stroke=\"black\"/>\n",
       "<polygon fill=\"black\" points=\"79.1579,-101.508 87.9879,-95.6531 77.4339,-94.7238 79.1579,-101.508\" stroke=\"black\"/>\n",
       "</g>\n",
       "<!-- Ut -->\n",
       "<g class=\"node\" id=\"node3\"><title>Ut</title>\n",
       "<polygon fill=\"lightgrey\" points=\"42.181,-180 14.5314,-162 42.181,-144 69.8307,-162 42.181,-180\" stroke=\"black\"/>\n",
       "<text font-family=\"Times,serif\" font-size=\"14.00\" text-anchor=\"middle\" x=\"42.181\" y=\"-158.3\">Ut</text>\n",
       "</g>\n",
       "<!-- T&#45;&gt;Ut -->\n",
       "<g class=\"edge\" id=\"edge2\"><title>T-&gt;Ut</title>\n",
       "<path d=\"M42.181,-215.697C42.181,-207.983 42.181,-198.712 42.181,-190.112\" fill=\"none\" stroke=\"black\"/>\n",
       "<polygon fill=\"black\" points=\"45.6811,-190.104 42.181,-180.104 38.6811,-190.104 45.6811,-190.104\" stroke=\"black\"/>\n",
       "</g>\n",
       "<!-- R -->\n",
       "<g class=\"node\" id=\"node5\"><title>R</title>\n",
       "<ellipse cx=\"115.181\" cy=\"-162\" fill=\"lightgrey\" rx=\"27\" ry=\"18\" stroke=\"black\"/>\n",
       "<text font-family=\"Times,serif\" font-size=\"14.00\" text-anchor=\"middle\" x=\"115.181\" y=\"-158.3\">R</text>\n",
       "</g>\n",
       "<!-- T&#45;&gt;R -->\n",
       "<g class=\"edge\" id=\"edge3\"><title>T-&gt;R</title>\n",
       "<path d=\"M60.226,-215.697C70.1467,-206.184 82.5359,-194.304 93.0384,-184.233\" fill=\"none\" stroke=\"black\"/>\n",
       "<polygon fill=\"black\" points=\"95.4947,-186.726 100.29,-177.279 90.6498,-181.674 95.4947,-186.726\" stroke=\"black\"/>\n",
       "</g>\n",
       "<!-- Ud -->\n",
       "<g class=\"node\" id=\"node4\"><title>Ud</title>\n",
       "<polygon fill=\"lightgrey\" points=\"142.181,-36 112.016,-18 142.181,-3.55271e-15 172.346,-18 142.181,-36\" stroke=\"black\"/>\n",
       "<text font-family=\"Times,serif\" font-size=\"14.00\" text-anchor=\"middle\" x=\"142.181\" y=\"-14.3\">Ud</text>\n",
       "</g>\n",
       "<!-- D&#45;&gt;Ud -->\n",
       "<g class=\"edge\" id=\"edge4\"><title>D-&gt;Ud</title>\n",
       "<path d=\"M121.855,-71.6966C125.286,-62.8023 129.515,-51.8388 133.225,-42.2194\" fill=\"none\" stroke=\"black\"/>\n",
       "<polygon fill=\"black\" points=\"136.515,-43.4141 136.849,-32.8245 129.984,-40.895 136.515,-43.4141\" stroke=\"black\"/>\n",
       "</g>\n",
       "<!-- R&#45;&gt;D -->\n",
       "<g class=\"edge\" id=\"edge5\"><title>R-&gt;D</title>\n",
       "<path d=\"M115.181,-143.697C115.181,-135.983 115.181,-126.712 115.181,-118.112\" fill=\"none\" stroke=\"black\"/>\n",
       "<polygon fill=\"black\" points=\"118.681,-118.104 115.181,-108.104 111.681,-118.104 118.681,-118.104\" stroke=\"black\"/>\n",
       "</g>\n",
       "<!-- O -->\n",
       "<g class=\"node\" id=\"node6\"><title>O</title>\n",
       "<ellipse cx=\"142.181\" cy=\"-234\" fill=\"lightgrey\" rx=\"27\" ry=\"18\" stroke=\"black\"/>\n",
       "<text font-family=\"Times,serif\" font-size=\"14.00\" text-anchor=\"middle\" x=\"142.181\" y=\"-230.3\">O</text>\n",
       "</g>\n",
       "<!-- O&#45;&gt;Ud -->\n",
       "<g class=\"edge\" id=\"edge7\"><title>O-&gt;Ud</title>\n",
       "<path d=\"M145.835,-215.908C147.857,-205.569 150.162,-192.09 151.181,-180 155.213,-132.17 155.213,-119.83 151.181,-72 150.412,-62.8757 148.91,-52.9607 147.351,-44.2013\" fill=\"none\" stroke=\"black\"/>\n",
       "<polygon fill=\"black\" points=\"150.761,-43.3968 145.465,-34.2205 143.883,-44.6964 150.761,-43.3968\" stroke=\"black\"/>\n",
       "</g>\n",
       "<!-- O&#45;&gt;R -->\n",
       "<g class=\"edge\" id=\"edge6\"><title>O-&gt;R</title>\n",
       "<path d=\"M135.782,-216.411C132.667,-208.335 128.847,-198.431 125.346,-189.355\" fill=\"none\" stroke=\"black\"/>\n",
       "<polygon fill=\"black\" points=\"128.586,-188.027 121.721,-179.956 122.055,-190.546 128.586,-188.027\" stroke=\"black\"/>\n",
       "</g>\n",
       "</g>\n",
       "</svg></div>"
      ],
      "text/plain": [
       "<IPython.core.display.HTML object>"
      ]
     },
     "metadata": {},
     "output_type": "display_data"
    }
   ],
   "source": [
    "oil=gum.loadID(\"../resources/OilWildcater.bifxml\")\n",
    "gnb.showInfluenceDiagram(oil)"
   ]
  },
  {
   "cell_type": "code",
   "execution_count": 8,
   "metadata": {
    "collapsed": false
   },
   "outputs": [],
   "source": [
    "ie=gum.InfluenceDiagramInference(oil)"
   ]
  },
  {
   "cell_type": "code",
   "execution_count": 9,
   "metadata": {
    "collapsed": false
   },
   "outputs": [
    {
     "name": "stdout",
     "output_type": "stream",
     "text": [
      "Best decision for T : 1\n",
      "Best decision for D : 1\n",
      "For a maxEU : 60.0\n"
     ]
    }
   ],
   "source": [
    "ie.makeInference()\n",
    "print(\"Best decision for T : {0}\".format(ie.getBestDecisionChoice(oil.idFromName(\"T\"))))\n",
    "print(\"Best decision for D : {0}\".format(ie.getBestDecisionChoice(oil.idFromName(\"D\"))))\n",
    "print(\"For a maxEU : {0}\".format(ie.getMEU()))"
   ]
  },
  {
   "cell_type": "code",
   "execution_count": 10,
   "metadata": {
    "collapsed": false
   },
   "outputs": [
    {
     "name": "stdout",
     "output_type": "stream",
     "text": [
      "O<Dry,Wet,Soak>\n"
     ]
    }
   ],
   "source": [
    "print(oil.variable(3))"
   ]
  },
  {
   "cell_type": "code",
   "execution_count": 11,
   "metadata": {
    "collapsed": false
   },
   "outputs": [
    {
     "name": "stdout",
     "output_type": "stream",
     "text": [
      "Best decision for T : 1\n",
      "Best decision for D : 1\n",
      "For a maxEU : 0.0\n"
     ]
    }
   ],
   "source": [
    "ie.eraseAllEvidence()\n",
    "ie.setEvidence({3:0})\n",
    "ie.makeInference()\n",
    "print(\"Best decision for T : {0}\".format(ie.getBestDecisionChoice(oil.idFromName(\"T\"))))\n",
    "print(\"Best decision for D : {0}\".format(ie.getBestDecisionChoice(oil.idFromName(\"D\"))))\n",
    "print(\"For a maxEU : {0}\".format(ie.getMEU()))"
   ]
  },
  {
   "cell_type": "code",
   "execution_count": 12,
   "metadata": {
    "collapsed": false
   },
   "outputs": [
    {
     "name": "stdout",
     "output_type": "stream",
     "text": [
      "Best decision for T : 1\n",
      "Best decision for D : 0\n",
      "For a maxEU : 60.0\n"
     ]
    }
   ],
   "source": [
    "ie.eraseAllEvidence()\n",
    "ie.setEvidence({3:1})\n",
    "ie.makeInference()\n",
    "print(\"Best decision for T : {0}\".format(ie.getBestDecisionChoice(oil.idFromName(\"T\"))))\n",
    "print(\"Best decision for D : {0}\".format(ie.getBestDecisionChoice(oil.idFromName(\"D\"))))\n",
    "print(\"For a maxEU : {0}\".format(ie.getMEU()))"
   ]
  },
  {
   "cell_type": "code",
   "execution_count": 13,
   "metadata": {
    "collapsed": false
   },
   "outputs": [
    {
     "name": "stdout",
     "output_type": "stream",
     "text": [
      "Best decision for T : 1\n",
      "Best decision for D : 0\n",
      "For a maxEU : 10.0\n"
     ]
    }
   ],
   "source": [
    "ie.eraseAllEvidence()\n",
    "ie.setEvidence({3:2})\n",
    "ie.makeInference()\n",
    "print(\"Best decision for T : {0}\".format(ie.getBestDecisionChoice(oil.idFromName(\"T\"))))\n",
    "print(\"Best decision for D : {0}\".format(ie.getBestDecisionChoice(oil.idFromName(\"D\"))))\n",
    "print(\"For a maxEU : {0}\".format(ie.getMEU()))"
   ]
  },
  {
   "cell_type": "code",
   "execution_count": 14,
   "metadata": {
    "collapsed": false
   },
   "outputs": [
    {
     "name": "stdout",
     "output_type": "stream",
     "text": [
      "Best decision for T : 1\n",
      "Best decision for D : 1\n",
      "For a maxEU : 30.0\n"
     ]
    }
   ],
   "source": [
    "ie.eraseAllEvidence()\n",
    "ie.setEvidence({3:[1,0.5,0.1]})\n",
    "ie.makeInference()\n",
    "print(\"Best decision for T : {0}\".format(ie.getBestDecisionChoice(oil.idFromName(\"T\"))))\n",
    "print(\"Best decision for D : {0}\".format(ie.getBestDecisionChoice(oil.idFromName(\"D\"))))\n",
    "print(\"For a maxEU : {0}\".format(ie.getMEU()))"
   ]
  },
  {
   "cell_type": "code",
   "execution_count": 14,
   "metadata": {
    "collapsed": false
   },
   "outputs": [],
   "source": []
  }
 ],
 "metadata": {
  "kernelspec": {
   "display_name": "Python 3",
   "language": "python",
   "name": "python3"
  },
  "language_info": {
   "codemirror_mode": {
    "name": "ipython",
    "version": 3
   },
   "file_extension": ".py",
   "mimetype": "text/x-python",
   "name": "python",
   "nbconvert_exporter": "python",
   "pygments_lexer": "ipython3",
   "version": "3.4.2"
  }
 },
 "nbformat": 4,
 "nbformat_minor": 0
}
